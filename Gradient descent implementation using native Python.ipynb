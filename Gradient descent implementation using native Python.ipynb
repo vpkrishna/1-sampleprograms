{
 "cells": [
  {
   "cell_type": "code",
   "execution_count": 3,
   "metadata": {},
   "outputs": [],
   "source": [
    "import numpy as np\n",
    "import pandas as pd\n",
    "import os as os"
   ]
  },
  {
   "cell_type": "code",
   "execution_count": 10,
   "metadata": {},
   "outputs": [],
   "source": [
    "dtype_dict = {'bathrooms':float, 'waterfront':int, 'sqft_above':int, \n",
    "              'sqft_living15':float, 'grade':int, 'yr_renovated':int, \n",
    "              'price':float, 'bedrooms':float, 'zipcode':str, \n",
    "              'long':float, 'sqft_lot15':float, 'sqft_living':float,\n",
    "              'floors':str,'condition':int, 'lat':float, 'date':str,\n",
    "               'sqft_basement':int, 'yr_built':int, 'id':str, 'sqft_lot':int, 'view':int}\n",
    "wrk_dir='C:\\Prasanna Krishna\\Prasanna Krishna\\Analytics\\Python\\datasets\\housing'\n",
    "os.chdir(wrk_dir)"
   ]
  },
  {
   "cell_type": "code",
   "execution_count": 61,
   "metadata": {},
   "outputs": [],
   "source": [
    "train=pd.read_csv('kc_house_train_data.csv',dtype=dtype_dict)\n",
    "test=pd.read_csv('kc_house_test_data.csv',dtype=dtype_dict)\n",
    "sales=pd.read_csv('kc_house_data.csv',dtype=dtype_dict)"
   ]
  },
  {
   "cell_type": "code",
   "execution_count": 66,
   "metadata": {},
   "outputs": [],
   "source": [
    "def get_numpy_data(df, features, output):\n",
    "    #print(df.head())\n",
    "    df['constant'] = 1 # this is how you add a constant column to an SFrame\n",
    "    # add the column 'constant' to the front of the features list so that we can extract it along with the others:\n",
    "    features = ['constant'] + features # this is how you combine two lists\n",
    "    # select the columns of data_SFrame given by the features list into the SFrame features_sframe (now including constant):\n",
    "    df_numpy=df[features].values\n",
    "    op_numpy=df[output].values\n",
    "    #print(\"sri hari\")\n",
    "    #print(df_numpy)\n",
    "    return(df_numpy, op_numpy)"
   ]
  },
  {
   "cell_type": "code",
   "execution_count": 67,
   "metadata": {},
   "outputs": [
    {
     "name": "stdout",
     "output_type": "stream",
     "text": [
      "[[1.00e+00 1.18e+03]\n",
      " [1.00e+00 2.57e+03]\n",
      " [1.00e+00 7.70e+02]\n",
      " ...\n",
      " [1.00e+00 1.53e+03]\n",
      " [1.00e+00 1.60e+03]\n",
      " [1.00e+00 1.02e+03]]\n",
      "221900.0\n"
     ]
    }
   ],
   "source": [
    "df_numpy, op_numpy=get_numpy_data(train, ['sqft_living'], 'price') \n",
    "print(df_numpy)\n",
    "print(op_numpy[0])"
   ]
  },
  {
   "cell_type": "code",
   "execution_count": 57,
   "metadata": {},
   "outputs": [],
   "source": [
    "def predict_output(feature_matrix, weights):\n",
    "    # assume feature_matrix is a numpy matrix containing the features as columns and weights is a corresponding numpy array\n",
    "    # create the predictions vector by using np.dot()\n",
    "    predictions=np.dot(feature_matrix, weights)\n",
    "    return(predictions)"
   ]
  },
  {
   "cell_type": "code",
   "execution_count": 58,
   "metadata": {},
   "outputs": [
    {
     "name": "stdout",
     "output_type": "stream",
     "text": [
      "1181.0\n",
      "2571.0\n"
     ]
    }
   ],
   "source": [
    "test_predictions = predict_output(df_numpy, my_weights)\n",
    "print(test_predictions[0]) # should be 1181.0\n",
    "print(test_predictions[1]) # should be 2571.0"
   ]
  },
  {
   "cell_type": "code",
   "execution_count": 59,
   "metadata": {},
   "outputs": [],
   "source": [
    "def feature_derivative(errors, feature):\n",
    "    # Assume that errors and feature are both numpy arrays of the same length (number of data points)\n",
    "    # compute twice the dot product of these vectors as 'derivative' and return the value\n",
    "    derivative = 2*np.dot(errors, feature)\n",
    "    return(derivative)"
   ]
  },
  {
   "cell_type": "code",
   "execution_count": 68,
   "metadata": {},
   "outputs": [
    {
     "name": "stdout",
     "output_type": "stream",
     "text": [
      "-23345850016.0\n",
      "-23345850016.0\n"
     ]
    }
   ],
   "source": [
    "(example_features, example_output) = get_numpy_data(sales, ['sqft_living'], 'price') \n",
    "my_weights = np.array([0., 0.]) # this makes all the predictions 0\n",
    "test_predictions = predict_output(example_features, my_weights) \n",
    "\n",
    "errors = test_predictions - example_output # prediction errors in this case is just the -example_output\n",
    "feature = example_features[:,0] # let's compute the derivative with respect to 'constant', the \":\" indicates \"all rows\"\n",
    "derivative = feature_derivative(errors, feature)\n",
    "print(derivative)\n",
    "print(-np.sum(example_output)*2) # should be the same as derivative"
   ]
  },
  {
   "cell_type": "code",
   "execution_count": 76,
   "metadata": {},
   "outputs": [],
   "source": [
    "from math import sqrt # recall that the magnitude/length of a vector [g[0], g[1], g[2]] is sqrt(g[0]^2 + g[1]^2 + g[2]^2)\n"
   ]
  },
  {
   "cell_type": "code",
   "execution_count": 123,
   "metadata": {},
   "outputs": [],
   "source": [
    "simple_features = ['sqft_living','sqft_living15']\n",
    "my_output = 'price'\n",
    "feature_matrix, output=get_numpy_data(train, simple_features, my_output)\n",
    "initial_weights = np.array([-100000., 1.,1.])\n",
    "step_size = 7e-12\n",
    "tolerance = 1.5e5"
   ]
  },
  {
   "cell_type": "code",
   "execution_count": 124,
   "metadata": {},
   "outputs": [],
   "source": [
    "\n",
    "def regression_gradient_descent(feature_matrix, output, initial_weights, step_size, tolerance):\n",
    "    converged = False \n",
    "    weights = np.array(initial_weights) # make sure it's a numpy array\n",
    " \n",
    "    while not converged:\n",
    "        predictions=predict_output(feature_matrix, weights)\n",
    "        #print(predictions)\n",
    "        errors=predictions - output \n",
    "        print('errors',errors)\n",
    "        gradient_sum_squares = 0 # initialize the gradient sum of squares \n",
    "        for i in range(len(weights)): # loop over each weight\n",
    "            \n",
    "            # Recall that feature_matrix[:, i] is the feature column associated with weights[i]\n",
    "            # compute the derivative for weight[i]:\n",
    "            feature =feature_matrix[:,i]\n",
    "            #print('feature',feature)\n",
    "            derivative = feature_derivative(errors, feature)\n",
    "            # add the squared value of the derivative to the gradient magnitude (for assessing convergence)\n",
    "            gradient_sum_squares = gradient_sum_squares +  derivative **2\n",
    "            # subtract the step size times the derivative from the current weight\n",
    "            #print(\"derivative\",derivative)\n",
    "            #print(weights[i])\n",
    "            weights[i] =  weights[i] - step_size* derivative\n",
    "            # compute the square-root of the gradient sum of squares to get the gradient matnigude:\n",
    "            gradient_magnitude = sqrt(gradient_sum_squares)\n",
    "            \n",
    "        if gradient_magnitude < tolerance:\n",
    "            print(\"errors====>\",errors)\n",
    "            print(\"gradient_magnitude\",gradient_magnitude)\n",
    "            converged = True\n",
    "        return(weights)"
   ]
  },
  {
   "cell_type": "code",
   "execution_count": 125,
   "metadata": {},
   "outputs": [
    {
     "name": "stdout",
     "output_type": "stream",
     "text": [
      "errors [-319380. -633740. -276510. ... -456940. -496990. -422960.]\n",
      "[-99999.84538308    380.56901949    343.87581535]\n"
     ]
    }
   ],
   "source": [
    "simple_weights = regression_gradient_descent(feature_matrix, output, initial_weights, step_size, tolerance)\n",
    "print(simple_weights)\n"
   ]
  },
  {
   "cell_type": "code",
   "execution_count": 126,
   "metadata": {},
   "outputs": [],
   "source": [
    "df_numpy, op_numpy=get_numpy_data(train, ['sqft_living','sqft_living15'], 'price') \n",
    "train_predictions=predict_output(df_numpy, simple_weights)\n",
    "rss=(((train_predictions-train['price'])**2).sum()/train.shape[0])**(1./2)"
   ]
  },
  {
   "cell_type": "code",
   "execution_count": 127,
   "metadata": {},
   "outputs": [
    {
     "name": "stdout",
     "output_type": "stream",
     "text": [
      "training rss 924131.901542456\n"
     ]
    }
   ],
   "source": [
    " print('training rss',rss)"
   ]
  },
  {
   "cell_type": "code",
   "execution_count": 128,
   "metadata": {},
   "outputs": [
    {
     "name": "stdout",
     "output_type": "stream",
     "text": [
      "training rss 924131.901542456\n"
     ]
    }
   ],
   "source": [
    " print('training rss',rss)"
   ]
  },
  {
   "cell_type": "code",
   "execution_count": null,
   "metadata": {},
   "outputs": [],
   "source": []
  }
 ],
 "metadata": {
  "kernelspec": {
   "display_name": "Python 3",
   "language": "python",
   "name": "python3"
  },
  "language_info": {
   "codemirror_mode": {
    "name": "ipython",
    "version": 3
   },
   "file_extension": ".py",
   "mimetype": "text/x-python",
   "name": "python",
   "nbconvert_exporter": "python",
   "pygments_lexer": "ipython3",
   "version": "3.7.1"
  }
 },
 "nbformat": 4,
 "nbformat_minor": 2
}
